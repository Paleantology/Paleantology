{
 "cells": [
  {
   "cell_type": "code",
   "execution_count": 31,
   "metadata": {
    "collapsed": true
   },
   "outputs": [],
   "source": [
    "import dendropy\n",
    "from dendropy.calculate import treecompare\n",
    "import itertools"
   ]
  },
  {
   "cell_type": "code",
   "execution_count": 163,
   "metadata": {
    "collapsed": false
   },
   "outputs": [],
   "source": [
    "estimated_trees = []\n",
    "mcc = dendropy.Tree.get_from_path(\"../Data/Morph/output/binary/combined/ants6.mcc.tre\", schema=\"nexus\", preserve_underscores=True, rooting='force-unrooted')\n",
    "map = dendropy.Tree.get_from_path(\"../Data/Morph/output/binary/combined/ants6.map.tre\", schema=\"nexus\", taxon_namespace= mcc.taxon_namespace, preserve_underscores=True, rooting='force-unrooted')\n",
    "con = dendropy.Tree.get_from_path(\"../Data/Morph/output/binary/combined/ants6.maj.tre\", schema=\"nexus\", taxon_namespace= mcc.taxon_namespace, preserve_underscores=True, rooting='force-unrooted')\n",
    "allc = dendropy.Tree.get_from_path(\"../Data/Morph/output/binary/combined/ants6.allcompat.tre\", schema=\"nexus\", taxon_namespace= mcc.taxon_namespace, preserve_underscores=True, rooting='force-unrooted')\n",
    "\n",
    "estimated_trees.append(mcc)\n",
    "estimated_trees.append(map)\n",
    "estimated_trees.append(con)\n",
    "estimated_trees.append(allc)\n",
    "\n"
   ]
  },
  {
   "cell_type": "code",
   "execution_count": 164,
   "metadata": {
    "collapsed": false
   },
   "outputs": [],
   "source": [
    "barden_tree = dendropy.Tree.get_from_path(\"../Data/Morph/Data/Barden.nex\", schema=\"nexus\", preserve_underscores=True, rooting='force-unrooted')\n"
   ]
  },
  {
   "cell_type": "code",
   "execution_count": 165,
   "metadata": {
    "collapsed": false
   },
   "outputs": [
    {
     "name": "stdout",
     "output_type": "stream",
     "text": [
      "41\n",
      "41\n",
      "41\n",
      "41\n",
      "41\n"
     ]
    }
   ],
   "source": [
    "include_list = []\n",
    "blabels = barden_tree.taxon_namespace.labels()\n",
    "mcclabels = estimated_trees[1].taxon_namespace.labels()\n",
    "for label in mcclabels:\n",
    "    if label in blabels:\n",
    "        include_list.append(label)\n",
    "print(len(include_list))\n",
    "        \n",
    "for et in estimated_trees:\n",
    "    et.retain_taxa_with_labels(include_list)\n",
    "    print(len(et.leaf_edges()))\n"
   ]
  },
  {
   "cell_type": "code",
   "execution_count": 167,
   "metadata": {
    "collapsed": false
   },
   "outputs": [
    {
     "name": "stdout",
     "output_type": "stream",
     "text": [
      "0.3474576271186441\n",
      "0.3474576271186441\n",
      "0.3474576271186441\n",
      "0.3813559322033898\n",
      "0.3813559322033898\n",
      "0.3813559322033898\n",
      "0.11864406779661017\n",
      "0.11864406779661017\n",
      "0.11864406779661017\n",
      "0.3050847457627119\n",
      "0.3050847457627119\n",
      "0.3050847457627119\n"
     ]
    }
   ],
   "source": [
    "total_diffs = 2*len(barden_tree.nodes())\n",
    "\n",
    "for et in estimated_trees:\n",
    "    for i in range(0,3):\n",
    "        et.migrate_taxon_namespace(barden_tree.taxon_namespace)\n",
    "        et.write_to_path(\"test{}.tre\".format(i), schema=\"nexus\")\n",
    "        print((treecompare.symmetric_difference(et,barden_tree))/total_diffs)\n",
    "    \n"
   ]
  },
  {
   "cell_type": "code",
   "execution_count": null,
   "metadata": {
    "collapsed": true
   },
   "outputs": [],
   "source": []
  }
 ],
 "metadata": {
  "kernelspec": {
   "display_name": "Python 3",
   "language": "python",
   "name": "python3"
  },
  "language_info": {
   "codemirror_mode": {
    "name": "ipython",
    "version": 3
   },
   "file_extension": ".py",
   "mimetype": "text/x-python",
   "name": "python",
   "nbconvert_exporter": "python",
   "pygments_lexer": "ipython3",
   "version": "3.6.0"
  }
 },
 "nbformat": 4,
 "nbformat_minor": 2
}
