{
 "cells": [
  {
   "cell_type": "code",
   "execution_count": 1,
   "metadata": {},
   "outputs": [],
   "source": [
    "import dendropy\n",
    "from dendropy.calculate import treecompare\n",
    "import itertools"
   ]
  },
  {
   "cell_type": "code",
   "execution_count": 2,
   "metadata": {},
   "outputs": [],
   "source": [
    "%load_ext rpy2.ipython"
   ]
  },
  {
   "cell_type": "code",
   "execution_count": 3,
   "metadata": {},
   "outputs": [],
   "source": [
    "estimated_trees = []\n",
    "mcc = dendropy.Tree.get_from_path(\"../Data/Morph/output/binary/combined/ants6.mcc.tre\", schema=\"nexus\", preserve_underscores=True, rooting='force-unrooted')\n",
    "map = dendropy.Tree.get_from_path(\"../Data/Morph/output/binary/combined/ants6.map.tre\", schema=\"nexus\", taxon_namespace= mcc.taxon_namespace, preserve_underscores=True, rooting='force-unrooted')\n",
    "con = dendropy.Tree.get_from_path(\"../Data/Morph/output/binary/combined/ants6.maj.tre\", schema=\"nexus\", taxon_namespace= mcc.taxon_namespace, preserve_underscores=True, rooting='force-unrooted')\n",
    "allc = dendropy.Tree.get_from_path(\"../Data/Morph/output/binary/combined/ants6.allcompat.tre\", schema=\"nexus\", taxon_namespace= mcc.taxon_namespace, preserve_underscores=True, rooting='force-unrooted')\n",
    "\n",
    "estimated_trees.append(mcc)\n",
    "estimated_trees.append(map)\n",
    "estimated_trees.append(con)\n",
    "estimated_trees.append(allc)\n",
    "\n"
   ]
  },
  {
   "cell_type": "code",
   "execution_count": 4,
   "metadata": {},
   "outputs": [],
   "source": [
    "barden_tree = dendropy.Tree.get_from_path(\"../Data/Morph/Data/Barden.nex\", schema=\"nexus\", preserve_underscores=True, rooting='force-unrooted')\n"
   ]
  },
  {
   "cell_type": "code",
   "execution_count": 5,
   "metadata": {},
   "outputs": [
    {
     "name": "stdout",
     "output_type": "stream",
     "text": [
      "41\n",
      "41\n",
      "41\n",
      "41\n",
      "41\n"
     ]
    }
   ],
   "source": [
    "include_list = []\n",
    "blabels = barden_tree.taxon_namespace.labels()\n",
    "mcclabels = estimated_trees[1].taxon_namespace.labels()\n",
    "for label in mcclabels:\n",
    "    if label in blabels:\n",
    "        include_list.append(label)\n",
    "print(len(include_list))\n",
    "        \n",
    "for et in estimated_trees:\n",
    "    et.retain_taxa_with_labels(include_list)\n",
    "    print(len(et.leaf_edges()))\n"
   ]
  },
  {
   "cell_type": "code",
   "execution_count": 27,
   "metadata": {
    "scrolled": true
   },
   "outputs": [
    {
     "name": "stdout",
     "output_type": "stream",
     "text": [
      "0.3474576271186441\n",
      "0.3813559322033898\n",
      "0.11864406779661017\n",
      "0.3050847457627119\n"
     ]
    }
   ],
   "source": [
    "total_diffs = 2*len(barden_tree.nodes())\n",
    "\n",
    "for et in estimated_trees:\n",
    "    for i in range(0,3):\n",
    "        et.migrate_taxon_namespace(barden_tree.taxon_namespace)\n",
    "        et.write_to_path(\"test{}.tre\".format(i), schema=\"nexus\")\n",
    "    print((treecompare.symmetric_difference(et,barden_tree))/total_diffs)\n",
    "    \n"
   ]
  },
  {
   "cell_type": "code",
   "execution_count": 15,
   "metadata": {},
   "outputs": [
    {
     "name": "stderr",
     "output_type": "stream",
     "text": [
      "/anaconda3/lib/python3.6/site-packages/rpy2/rinterface/__init__.py:145: RRuntimeWarning: also installing the dependencies ‘nlme’, ‘lattice’\n",
      "\n",
      "\n",
      "  warnings.warn(x, RRuntimeWarning)\n",
      "/anaconda3/lib/python3.6/site-packages/rpy2/rinterface/__init__.py:145: RRuntimeWarning: Updating HTML index of packages in '.Library'\n",
      "\n",
      "  warnings.warn(x, RRuntimeWarning)\n",
      "/anaconda3/lib/python3.6/site-packages/rpy2/rinterface/__init__.py:145: RRuntimeWarning: Making 'packages.html' ...\n",
      "  warnings.warn(x, RRuntimeWarning)\n",
      "/anaconda3/lib/python3.6/site-packages/rpy2/rinterface/__init__.py:145: RRuntimeWarning:  done\n",
      "\n",
      "  warnings.warn(x, RRuntimeWarning)\n",
      "/anaconda3/lib/python3.6/site-packages/rpy2/rinterface/__init__.py:145: RRuntimeWarning: also installing the dependencies ‘MASS’, ‘mvtnorm’\n",
      "\n",
      "\n",
      "  warnings.warn(x, RRuntimeWarning)\n",
      "/anaconda3/lib/python3.6/site-packages/rpy2/rinterface/__init__.py:145: RRuntimeWarning: also installing the dependencies ‘deSolve’, ‘subplex’\n",
      "\n",
      "\n",
      "  warnings.warn(x, RRuntimeWarning)\n",
      "/anaconda3/lib/python3.6/site-packages/rpy2/rinterface/__init__.py:145: RRuntimeWarning: also installing the dependencies ‘coda’, ‘ncbit’, ‘colorspace’\n",
      "\n",
      "\n",
      "  warnings.warn(x, RRuntimeWarning)\n",
      "/anaconda3/lib/python3.6/site-packages/rpy2/rinterface/__init__.py:145: RRuntimeWarning: also installing the dependencies ‘survival’, ‘maps’, ‘animation’, ‘clusterGeneration’, ‘combinat’, ‘mnormt’, ‘msm’, ‘plotrix’, ‘scatterplot3d’, ‘quadprog’, ‘igraph’, ‘Matrix’, ‘fastmatch’, ‘GenSA’, ‘nnet’, ‘gmp’, ‘nloptr’, ‘numDeriv’, ‘corpcor’, ‘phytools’, ‘paleotree’, ‘phangorn’, ‘expm’, ‘corHMM’, ‘Rmpfr’\n",
      "\n",
      "\n",
      "  warnings.warn(x, RRuntimeWarning)\n"
     ]
    }
   ],
   "source": [
    "%%R \n",
    "install.packages(\"ape\",repos=\"https://cloud.r-project.org\",quiet=TRUE)\n",
    "install.packages(\"caper\",repos=\"https://cloud.r-project.org\",quiet=TRUE)\n",
    "install.packages(\"diversitree\",repos=\"https://cloud.r-project.org\",quiet=TRUE)\n",
    "install.packages(\"geiger\",repos=\"https://cloud.r-project.org\",quiet=TRUE)\n",
    "install.packages(\"nlme\",repos=\"https://cloud.r-project.org\",quiet=TRUE)\n",
    "install.packages(\"OUwie\",repos=\"https://cloud.r-project.org\",quiet=TRUE)\n",
    "install.packages(\"phangorn\",repos=\"https://cloud.r-project.org\",quiet=TRUE)\n",
    "install.packages(\"phytools\",repos=\"https://cloud.r-project.org\",quiet=TRUE)\n"
   ]
  },
  {
   "cell_type": "code",
   "execution_count": 44,
   "metadata": {},
   "outputs": [],
   "source": [
    "%%R\n",
    "library(phytools)\n",
    "library(phangorn)\n",
    "\n",
    "barden_tree<-read.nexus(file=\"../Data/Morph/Data/BardenTree.nex\")\n",
    "map_tree<-read.nexus(file=\"test0.tre\")\n",
    "mcc_tree<-read.nexus(file=\"test.tre\")\n",
    "con_tree<-read.nexus(file=\"test1.tre\")\n",
    "allc_tree<-read.nexus(file=\"test2.tre\")\n"
   ]
  },
  {
   "cell_type": "code",
   "execution_count": 60,
   "metadata": {},
   "outputs": [
    {
     "data": {
      "text/plain": [
       "Rotating nodes to optimize matching...\n",
       "Done.\n",
       "quartz_off_screen \n",
       "                2 \n"
      ]
     },
     "metadata": {},
     "output_type": "display_data"
    }
   ],
   "source": [
    "%%R\n",
    "png(\"barden_binary_combined_pruned\", width = 720, height = 720, units = \"px\")\n",
    "resObj<-cophylo(prepTree(barden_tree),prepTree(con_tree))\n",
    "plot.cophylo(resObj,pts=FALSE)\n",
    "dev.off()"
   ]
  },
  {
   "cell_type": "markdown",
   "metadata": {},
   "source": [
    "%%R\n",
    "prepTree<-function(tree){\n",
    "  tree$edge.length<-rep(1,Nedge(tree))\n",
    "\tcompute.brlen(ladderize(tree))\n",
    "\t}"
   ]
  },
  {
   "cell_type": "code",
   "execution_count": 52,
   "metadata": {},
   "outputs": [
    {
     "name": "stdout",
     "output_type": "stream",
     "text": [
      "\n",
      "Error in par(mar) : object 'mar' not found\n"
     ]
    },
    {
     "name": "stderr",
     "output_type": "stream",
     "text": [
      "/anaconda3/lib/python3.6/site-packages/rpy2/rinterface/__init__.py:145: RRuntimeWarning: Error in par(mar) : object 'mar' not found\n",
      "\n",
      "  warnings.warn(x, RRuntimeWarning)\n"
     ]
    }
   ],
   "source": []
  },
  {
   "cell_type": "code",
   "execution_count": null,
   "metadata": {},
   "outputs": [],
   "source": []
  }
 ],
 "metadata": {
  "kernelspec": {
   "display_name": "Python 3",
   "language": "python",
   "name": "python3"
  },
  "language_info": {
   "codemirror_mode": {
    "name": "ipython",
    "version": 3
   },
   "file_extension": ".py",
   "mimetype": "text/x-python",
   "name": "python",
   "nbconvert_exporter": "python",
   "pygments_lexer": "ipython3",
   "version": "3.6.4"
  }
 },
 "nbformat": 4,
 "nbformat_minor": 2
}
