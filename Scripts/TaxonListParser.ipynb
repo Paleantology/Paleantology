{
 "cells": [
  {
   "cell_type": "code",
   "execution_count": 1,
   "metadata": {
    "collapsed": true
   },
   "outputs": [],
   "source": [
    "import pandas as pd\n",
    "import dendropy\n",
    "import argparse"
   ]
  },
  {
   "cell_type": "code",
   "execution_count": 36,
   "metadata": {
    "collapsed": true
   },
   "outputs": [],
   "source": [
    "def parse_dataframe(df):\n",
    "    '''Retrieve a taxon list from a dataframe'''\n",
    "    if df.endswith('.tsv'):\n",
    "        df = pd.read_csv(df, delimiter=\"\\t\")\n",
    "    elif df.endswith('.csv'):\n",
    "        df = pd.read_csv(df)\n",
    "    tax_list= df[['taxon','max']]\n",
    "    return(tax_list)"
   ]
  },
  {
   "cell_type": "code",
   "execution_count": 228,
   "metadata": {
    "collapsed": true
   },
   "outputs": [],
   "source": [
    "def parse_morphology(morph_mat):\n",
    "    '''Retrieve a taxon list from a Nexus-Formatted morphological matrix'''\n",
    "    mm = dendropy.StandardCharacterMatrix.get_from_path(morph_mat, schema=\"nexus\", preserve_underscores=True)\n",
    "    ns = mm.taxon_namespace\n",
    "    return(ns)"
   ]
  },
  {
   "cell_type": "code",
   "execution_count": 328,
   "metadata": {
    "collapsed": false
   },
   "outputs": [],
   "source": [
    "def parse_molecular(mol_mat):\n",
    "    '''Retrieve a taxon list from a molecular matrix'''\n",
    "    if mol_mat.endswith('.nex'):\n",
    "        molm = dendropy.DnaCharacterMatrix.get_from_path(mol_mat, schema=\"nexus\", preserve_underscores=True )\n",
    "    elif mol_mat.endswith('.fasta' or '.fa'):\n",
    "        molm = dendropy.DnaCharacterMatrix.get_from_path(mol_mat, schema=\"fasta\")\n",
    "    else:\n",
    "        print(\"Could not tell what file format molecular data are in. Please use suffixes .fa, .fasta, or .nex\")\n",
    "    mns = molm.taxon_namespace\n",
    "    new_mns = []\n",
    "    for item in mns:\n",
    "        new_mns.append(str(item).replace(\"'\", \"\"))\n",
    "    df = pd.DataFrame({'taxon':new_mns})\n",
    "    df = df.drop_duplicates()\n",
    "    df['age'] = 0\n",
    "    return(df)"
   ]
  },
  {
   "cell_type": "code",
   "execution_count": 329,
   "metadata": {
    "collapsed": false
   },
   "outputs": [],
   "source": [
    "def map_fossils(tnrs, ns):\n",
    "    '''Decide which taxa in the morphology are fossils, and which are extant'''\n",
    "    dict_of_nameages = {}\n",
    "    if tnrs.endswith('.tsv'):\n",
    "        tnrs = pd.read_csv(tnrs, delimiter=\"\\t\")\n",
    "    elif tnrs.endswith('.csv'):\n",
    "        tnrs = pd.read_csv(tnrs)\n",
    "    for item in ns:\n",
    "        item = str(item).replace(\"'\", \"\")\n",
    "        if len(tnrs.loc[tnrs['taxon'] == item]) != 0:\n",
    "            location = tnrs.loc[tnrs['taxon'] == item]\n",
    "            dict_of_nameages[str(item)] = location.max_ma.item()\n",
    "        else:\n",
    "            dict_of_nameages[item] = 0\n",
    "    fossil_df = pd.DataFrame.from_dict(dict_of_nameages, orient='index')\n",
    "    fossil_df = fossil_df.reset_index()\n",
    "    fossil_df.columns=['taxon','age']\n",
    "    return(fossil_df)"
   ]
  },
  {
   "cell_type": "code",
   "execution_count": 330,
   "metadata": {
    "collapsed": true
   },
   "outputs": [],
   "source": [
    "morph_mat = \"../Data/Morph/Data/AntMegaMatrixMinusAmbig.nex\"\n",
    "mol_mat = \"../Data/Mol/Data/18s.nex.fasta\"\n",
    "df = \"../Teaching/RK_analysis/Data/Tribe_max.tsv\"\n",
    "morphology_tnrs = \"../Data/Morph/FossilTNRS.csv\""
   ]
  },
  {
   "cell_type": "code",
   "execution_count": 331,
   "metadata": {
    "collapsed": false
   },
   "outputs": [
    {
     "name": "stdout",
     "output_type": "stream",
     "text": [
      "                           taxon     age\n",
      "0            Acanthoponera_minor    0.00\n",
      "1            Amblyopone_pallipes    0.00\n",
      "2                      Aneuretus    0.00\n",
      "3                Anomalomyrma_sp    0.00\n",
      "4                Apomyrma_stygia    0.00\n",
      "5            Brownimecia_clavata   93.90\n",
      "6                    Camelomecia   99.60\n",
      "7           Cerapachys_sexspinus    0.00\n",
      "8         Chalybion_californicum    0.00\n",
      "9             Chyphotes_mellipes    0.00\n",
      "10                 Formica_fusca   15.97\n",
      "11       Gerontoformica_gracilis   99.60\n",
      "12         Gerontoformica_magnus   99.60\n",
      "13        Gerontoformica_pilosus   99.60\n",
      "14       Gerontoformica_spiralis   99.60\n",
      "15        Haidomyrmex_scimitarus   99.60\n",
      "16       Haidomyrmodes_mammuthus  105.30\n",
      "17          Haidoterminus_cippus   83.50\n",
      "18                    Heterogyna    0.00\n",
      "19            Hypoponera_opacior    0.00\n",
      "20                     Kyromyrma    0.00\n",
      "21           Lasius_californicus    0.00\n",
      "22              Leptanilla_swani    0.00\n",
      "23         Leptanilloides_nomada    0.00\n",
      "24           Leptogenys_diminuta    0.00\n",
      "25             Martialis_heureka    0.00\n",
      "26         Metapolybia_cingulata    0.00\n",
      "27            Myanmyrma_gracilis   99.60\n",
      "28            Myrmecia_nigriceps    0.00\n",
      "29             Myrmica_americana    0.00\n",
      "..                           ...     ...\n",
      "105          Proceratium_croceum    0.00\n",
      "106        Proceratium_pergandei    0.00\n",
      "107     Probolomyrmex_guineensis    0.00\n",
      "108             Aneuretus_simoni    0.00\n",
      "109          Leptomyrmex_pallens    0.00\n",
      "110        Iridomyrmex_purpureus    0.00\n",
      "111       Dolichoderus_laminatus    0.00\n",
      "112           Tapinoma_erraticum    0.00\n",
      "113         Technomyrmex_albipes    0.00\n",
      "114        Gesomyrmex_luzonensis    0.00\n",
      "115        Oecophylla_smaragdina    0.00\n",
      "116          Myrmecia_nigriscapa    0.00\n",
      "117                Manica_rubida    0.00\n",
      "118        Pogonomyrmex_barbatus    0.00\n",
      "119       Metapone_madagascarica    0.00\n",
      "120        Pseudomyrmex_gracilis    0.00\n",
      "121         Tetraponera_aethiops    0.00\n",
      "122        Tetraponera_attenuata    0.00\n",
      "123    Acanthostichus_serratulus    0.00\n",
      "124         Cerapachys_nitidulus    0.00\n",
      "125        Cerapachys_doryloides    0.00\n",
      "126   Cylindromyrmex_brevitarsus    0.00\n",
      "127         Simopone_schoutedeni    0.00\n",
      "128  Leptanilliodes_biconstricta    0.00\n",
      "129             Dorylus_helvolus    0.00\n",
      "130            Aenictus_binghami    0.00\n",
      "131         Cheliomyrmex_morosus    0.00\n",
      "132               Labidus_coecus    0.00\n",
      "133               Eciton_hamatum    0.00\n",
      "134            Scolia_nobilitata    0.00\n",
      "\n",
      "[135 rows x 2 columns]\n"
     ]
    }
   ],
   "source": [
    "t_l = parse_dataframe(df)\n",
    "ns = parse_morphology(morph_mat)\n",
    "molm =  parse_molecular(mol_mat)\n",
    "foss =  map_fossils(morphology_tnrs, ns)"
   ]
  },
  {
   "cell_type": "code",
   "execution_count": 337,
   "metadata": {
    "collapsed": false
   },
   "outputs": [],
   "source": [
    "big_matr = pd.concat([foss, molm])\n",
    "big_matr = big_matr.drop_duplicates()"
   ]
  },
  {
   "cell_type": "code",
   "execution_count": 338,
   "metadata": {
    "collapsed": false
   },
   "outputs": [],
   "source": [
    "big_matr.to_csv(\"check\", index=False, sep='\\t')"
   ]
  },
  {
   "cell_type": "code",
   "execution_count": null,
   "metadata": {
    "collapsed": true
   },
   "outputs": [],
   "source": []
  }
 ],
 "metadata": {
  "kernelspec": {
   "display_name": "Python 3",
   "language": "python",
   "name": "python3"
  },
  "language_info": {
   "codemirror_mode": {
    "name": "ipython",
    "version": 3
   },
   "file_extension": ".py",
   "mimetype": "text/x-python",
   "name": "python",
   "nbconvert_exporter": "python",
   "pygments_lexer": "ipython3",
   "version": "3.6.0"
  }
 },
 "nbformat": 4,
 "nbformat_minor": 2
}
