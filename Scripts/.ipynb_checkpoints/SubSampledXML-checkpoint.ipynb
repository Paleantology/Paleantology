{
 "cells": [
  {
   "cell_type": "markdown",
   "metadata": {},
   "source": [
    "Like in the parsing notebook, we're going to prepare data from three sources (molecular, morphological and fossils without data, used only for their age information) for use with the BEAST2 suite of tools for divergence dating using the Fossilized Birth-Death model. This time around, we're going to subsample the fossil data - including every fossil, especially when they all have missing data, can make it really hard for the MCMC to converge. "
   ]
  },
  {
   "cell_type": "code",
   "execution_count": null,
   "metadata": {
    "collapsed": true
   },
   "outputs": [],
   "source": [
    "import dendropy\n",
    "import pandas as pd\n",
    "from numpy import random\n",
    "\n",
    "pd.options.display.max_rows = 999\n",
    "pd.options.display.max_colwidth = 100"
   ]
  },
  {
   "cell_type": "markdown",
   "metadata": {},
   "source": [
    "The first thing we do is load our the two libraries we'll be using: Pandas, a data-crunching library and Dendropy, a perennially excellent package for phylogenetic tree and dataset manipulation."
   ]
  },
  {
   "cell_type": "markdown",
   "metadata": {},
   "source": [
    "In the previous notebook, we parsed all the data into dataframes with extra info, such as higher taxonomy and ages. We're going to load that data now."
   ]
  },
  {
   "cell_type": "code",
   "execution_count": null,
   "metadata": {
    "collapsed": false
   },
   "outputs": [],
   "source": [
    "morphTable = pd.read_csv(\"../Data/Morph/morphTNRS.csv\")\n",
    "molTable = pd.read_csv(\"../Data/Mol/molTNRS.csv\")\n",
    "fossTable = pd.read_csv(\"../Data/Morph/FossilTNRS.csv\")"
   ]
  },
  {
   "cell_type": "markdown",
   "metadata": {},
   "source": [
    "In order to subsample the fossils, we're first going to break them down by subfamily. We will then subsample within each subfamily."
   ]
  },
  {
   "cell_type": "code",
   "execution_count": null,
   "metadata": {
    "collapsed": false
   },
   "outputs": [],
   "source": [
    "families = fossTable.groupby('subfamily')\n"
   ]
  },
  {
   "cell_type": "code",
   "execution_count": 39,
   "metadata": {
    "collapsed": false
   },
   "outputs": [
    {
     "name": "stdout",
     "output_type": "stream",
     "text": [
      "                     Specimen                                      subfamily  \\\n",
      "0          Concoctio_concenta                                  Amblyoponinae   \n",
      "1        Amblyopone_australis                                  Amblyoponinae   \n",
      "2        Amblyopone_mystriops                                  Amblyoponinae   \n",
      "3                Onychomyrmex                                  Amblyoponinae   \n",
      "4       Dolichoderus_kohlsi_X                                 Dolichoderinae   \n",
      "5      Emplastus_biamoensis_X                                 Dolichoderinae   \n",
      "6    Anonychomyrma_nitidiceps                                 Dolichoderinae   \n",
      "7               Aenictus_sp.1                                      Dorylinae   \n",
      "8         Cerapachys_augustae                                      Dorylinae   \n",
      "9          Labidus_spininodis                                      Dorylinae   \n",
      "10                   Aenictus                                      Dorylinae   \n",
      "11             Cylindromyrmex                                      Dorylinae   \n",
      "12                    Dorylus                                      Dorylinae   \n",
      "13                Neivamyrmex                                      Dorylinae   \n",
      "14   Typhlomyrmex_rogenhoferi                                   Ectatomminae   \n",
      "15     Gnamptogenys_striatula                                   Ectatomminae   \n",
      "16              Rhytidoponera                                   Ectatomminae   \n",
      "17         Formicium_berryi_X                                     Formicinae   \n",
      "18           Acropyga_epedana                                     Formicinae   \n",
      "19       Heteroponera_microps                                Heteroponerinae   \n",
      "20  Myrmeciites_herculeanus_X                                    Myrmiciinae   \n",
      "21                 Myrmeciini                                    Myrmiciinae   \n",
      "22     Attopsis_longipennis_X                                     Myrmicinae   \n",
      "23       Myrmica_incompleta_X                                     Myrmicinae   \n",
      "24           Apterostigma_sp.                                     Myrmicinae   \n",
      "25          Ocymyrmex_picardi                                     Myrmicinae   \n",
      "26         Pyramica_pulchella                                     Myrmicinae   \n",
      "27         Paraponera_clavata                                  Paraponerinae   \n",
      "28     Ponerites_kishenehne_X                                      Ponerinae   \n",
      "29            Anochetus_mayri                                      Ponerinae   \n",
      "30      Leptogenys_podenzanai                                      Ponerinae   \n",
      "31    Pachycondyla_pachyderma                                      Ponerinae   \n",
      "32       Pseudomyrmex_baros_X                               Pseudomyrmecinae   \n",
      "33           Gerontoformica_X                                 Sphecomyrminae   \n",
      "34           Baikuris_casei_X                                 Sphecomyrminae   \n",
      "35      Acanthomyops_laticeps  looks_like_major_taxonomic_revision_in_group?   \n",
      "\n",
      "   Fossil  \n",
      "0     Yes  \n",
      "1     Yes  \n",
      "2     Yes  \n",
      "3     Yes  \n",
      "4     Yes  \n",
      "5     Yes  \n",
      "6     Yes  \n",
      "7     Yes  \n",
      "8     Yes  \n",
      "9     Yes  \n",
      "10    Yes  \n",
      "11    Yes  \n",
      "12    Yes  \n",
      "13    Yes  \n",
      "14    Yes  \n",
      "15    Yes  \n",
      "16    Yes  \n",
      "17    Yes  \n",
      "18    Yes  \n",
      "19    Yes  \n",
      "20    Yes  \n",
      "21    Yes  \n",
      "22    Yes  \n",
      "23    Yes  \n",
      "24    Yes  \n",
      "25    Yes  \n",
      "26    Yes  \n",
      "27    Yes  \n",
      "28    Yes  \n",
      "29    Yes  \n",
      "30    Yes  \n",
      "31    Yes  \n",
      "32    Yes  \n",
      "33    Yes  \n",
      "34    Yes  \n",
      "35    Yes  \n"
     ]
    }
   ],
   "source": [
    "sample = []\n",
    "samp_prop = .9\n",
    "\n",
    "for name, group in families:\n",
    "    for ind in group.specimen:\n",
    "        ind_val = random.random(1)\n",
    "        if ind_val > samp_prop:\n",
    "            sample.append([ind, name])\n",
    "sample = pd.DataFrame(sample)\n",
    "sample.columns = ['Specimen', 'subfamily']\n",
    "sample['Fossil'] = 'Yes'\n",
    "print(sample)"
   ]
  },
  {
   "cell_type": "markdown",
   "metadata": {},
   "source": [
    "The above defines some probability that a fossil will be included in the final set of fossils. I set this so that about 20% of the fossils would be included. This will still be a lot of fossils! Then, below, I put this into a dataframe so that I can merge my subset of fossils with my molecular and morphological data."
   ]
  },
  {
   "cell_type": "code",
   "execution_count": null,
   "metadata": {
    "collapsed": false
   },
   "outputs": [],
   "source": [
    "samp = pd.DataFrame(sample, columns=['specimen', 'subfamily'])"
   ]
  },
  {
   "cell_type": "code",
   "execution_count": null,
   "metadata": {
    "collapsed": false
   },
   "outputs": [],
   "source": [
    "morphMerge = morphTable[['Specimen', 'SubFamily']]\n",
    "morphMerge.columns = ['specimen','subfamily'] \n",
    "morphMerge['Fossil'] = 'No'\n",
    "molMerge = molTable[['Moreau_et_al_name', 'subfamily']]\n",
    "molMerge.columns = ['specimen','subfamily']  \n",
    "molMerge['Fossil'] = 'No'\n",
    "samp['Fossil'] = 'Yes'\n",
    "mega_df = pd.concat([samp,molMerge,morphMerge]) \n",
    "mega_df = mega_df.drop_duplicates('specimen')"
   ]
  },
  {
   "cell_type": "markdown",
   "metadata": {},
   "source": [
    "Now we load in DNA and character matrices."
   ]
  },
  {
   "cell_type": "code",
   "execution_count": null,
   "metadata": {
    "collapsed": false
   },
   "outputs": [],
   "source": [
    "taxa = dendropy.TaxonNamespace(is_mutable=True)   \n",
    "molDat = dendropy.DnaCharacterMatrix.get_from_path(\"../Data/Mol/FINAL_666Trimmed.nex\", schema=\"nexus\",preserve_underscores=True, taxon_namespace=taxa)  \n",
    "taxa2 = dendropy.TaxonNamespace() \n",
    "morphDat = dendropy.StandardCharacterMatrix.get_from_path(\"../Data/Morph/KellerMatrix.nex\", schema=\"nexus\", preserve_underscores=True, taxon_namespace=taxa2)\n",
    "taxa.add_taxa(taxa2)\n",
    "morphDat.taxon_namespace = taxa"
   ]
  },
  {
   "cell_type": "markdown",
   "metadata": {},
   "source": [
    "And we create matrices of missing data for the fossils we're using for their age info - remeber that all taxa must be present in all data partitions in BEAST."
   ]
  },
  {
   "cell_type": "code",
   "execution_count": 42,
   "metadata": {
    "collapsed": false
   },
   "outputs": [
    {
     "data": {
      "text/plain": [
       "['Concoctio_concenta',\n",
       " 'Amblyopone_australis',\n",
       " 'Amblyopone_mystriops',\n",
       " 'Onychomyrmex',\n",
       " 'Dolichoderus_kohlsi_X',\n",
       " 'Emplastus_biamoensis_X',\n",
       " 'Anonychomyrma_nitidiceps',\n",
       " 'Aenictus_sp.1',\n",
       " 'Cerapachys_augustae',\n",
       " 'Labidus_spininodis',\n",
       " 'Aenictus',\n",
       " 'Cylindromyrmex',\n",
       " 'Dorylus',\n",
       " 'Neivamyrmex',\n",
       " 'Typhlomyrmex_rogenhoferi',\n",
       " 'Gnamptogenys_striatula',\n",
       " 'Rhytidoponera',\n",
       " 'Formicium_berryi_X',\n",
       " 'Acropyga_epedana',\n",
       " 'Heteroponera_microps',\n",
       " 'Myrmeciites_herculeanus_X',\n",
       " 'Myrmeciini',\n",
       " 'Attopsis_longipennis_X',\n",
       " 'Myrmica_incompleta_X',\n",
       " 'Apterostigma_sp.',\n",
       " 'Ocymyrmex_picardi',\n",
       " 'Pyramica_pulchella',\n",
       " 'Paraponera_clavata',\n",
       " 'Ponerites_kishenehne_X',\n",
       " 'Anochetus_mayri',\n",
       " 'Leptogenys_podenzanai',\n",
       " 'Pachycondyla_pachyderma',\n",
       " 'Pseudomyrmex_baros_X',\n",
       " 'Gerontoformica_X',\n",
       " 'Baikuris_casei_X',\n",
       " 'Acanthomyops_laticeps']"
      ]
     },
     "execution_count": 42,
     "metadata": {},
     "output_type": "execute_result"
    }
   ],
   "source": [
    "names=[]\n",
    "names = sample.Specimen.tolist()\n",
    "names"
   ]
  },
  {
   "cell_type": "code",
   "execution_count": 43,
   "metadata": {
    "collapsed": false
   },
   "outputs": [],
   "source": [
    "md_val = \"?\"*139\n",
    "dict_of_dat = {}\n",
    "names_x = [name+'_X' for name in names]\n",
    "for name in names_x:                                                                                             \n",
    "\tdict_of_dat[name] = md_val\n",
    "dict_of_moldat = {}\n",
    "md_val = \"?\"*7099\n",
    "for name in names_x:                                                                                             \n",
    "\tdict_of_moldat[name] = md_val"
   ]
  },
  {
   "cell_type": "markdown",
   "metadata": {},
   "source": [
    "We make sure that the names of the fossils are entered into the namespace."
   ]
  },
  {
   "cell_type": "code",
   "execution_count": null,
   "metadata": {
    "collapsed": false
   },
   "outputs": [],
   "source": [
    "fossDat = dendropy.StandardCharacterMatrix.from_dict(dict_of_dat,taxon_namespace=taxa) \n",
    "fossmolDat = dendropy.DnaCharacterMatrix.from_dict(dict_of_moldat, taxon_namespace=taxa)    "
   ]
  },
  {
   "cell_type": "markdown",
   "metadata": {},
   "source": [
    "And if there are any morphology taxa that don't have molecular data, or vice versa, we pad that out now as well."
   ]
  },
  {
   "cell_type": "code",
   "execution_count": null,
   "metadata": {
    "collapsed": false
   },
   "outputs": [],
   "source": [
    "morphDat.add_sequences(fossDat)\n",
    "morphDat.pack()\n",
    "molDat.add_sequences(fossmolDat)\n",
    "molDat.pack()"
   ]
  },
  {
   "cell_type": "markdown",
   "metadata": {},
   "source": [
    "And we write the data out. Pack() fills the data with None values. These can be replaced by regex. Once you have done this, BEAST should happily read the data. "
   ]
  },
  {
   "cell_type": "code",
   "execution_count": null,
   "metadata": {
    "collapsed": true
   },
   "outputs": [],
   "source": [
    "morphDat.write_to_path('samp_morphTest.nex', schema='nexus')\n",
    "molDat.write_to_path('samp_molTest.nex', schema='nexus')"
   ]
  },
  {
   "cell_type": "markdown",
   "metadata": {},
   "source": [
    "For the next bits, I'm going to show some parsing that will be useful if you want to use fossil tip ranges, such as in [this](http://sysbio.oxfordjournals.org/content/early/2016/07/27/sysbio.syw060.abstract) paper. In order to access the age information stored in my fossil data, I'm going to do merge between my fossil subsample, and my fossil database. This will allow me to pare down my fossil database to just the fossils I actually want to use."
   ]
  },
  {
   "cell_type": "code",
   "execution_count": null,
   "metadata": {
    "collapsed": true
   },
   "outputs": [],
   "source": [
    "fossTNRS = pd.read_csv('../Data/Morph/FossilTNRS.csv')"
   ]
  },
  {
   "cell_type": "code",
   "execution_count": null,
   "metadata": {
    "collapsed": false
   },
   "outputs": [],
   "source": [
    "fossTNRS"
   ]
  },
  {
   "cell_type": "markdown",
   "metadata": {},
   "source": [
    "If you look at any of the XML files for the paper I linked to in the previous text, you'll see taxon names and ages are stored together in an XML block. Below, we assemble this XML block for our data."
   ]
  },
  {
   "cell_type": "code",
   "execution_count": null,
   "metadata": {
    "collapsed": false
   },
   "outputs": [],
   "source": [
    "namesdb = fossTNRS[fossTNRS['specimen'].isin(names)]\n",
    "nl = namesdb['specimen'].tolist()\n",
    "nm = namesdb['min_ma'].tolist()\n",
    "\n",
    "new_names = [name+'_X='+str(time) for name, time in zip(nl, nm)]\n",
    "new_names"
   ]
  },
  {
   "cell_type": "markdown",
   "metadata": {},
   "source": [
    "Looking at the XMLs, you might also notice that we can sample the tip ages, if we have an age range for a fossil. Below, I make the part of the XML block that varies. "
   ]
  },
  {
   "cell_type": "code",
   "execution_count": null,
   "metadata": {
    "collapsed": true
   },
   "outputs": [],
   "source": [
    "xml_taxon =  ['<taxon idref=\"'+name+'_X \" spec=\"Taxon\"/>' for name in names] "
   ]
  },
  {
   "cell_type": "code",
   "execution_count": null,
   "metadata": {
    "collapsed": false
   },
   "outputs": [],
   "source": [
    "xml_taxon"
   ]
  },
  {
   "cell_type": "code",
   "execution_count": null,
   "metadata": {
    "collapsed": false
   },
   "outputs": [],
   "source": [
    "count = 1\n",
    "nl = namesdb['specimen'].tolist()\n",
    "nm = namesdb['min_ma'].tolist()\n",
    "nma = namesdb['max_ma'].tolist()\n",
    "\n",
    "for name, mi, ma in zip(nl, nm, nma):\n",
    "    print('<samplingDates id=\"samplingDate%d\" spec=\"beast.evolution.tree.SamplingDate\" taxon=\"@'  % count +name+'_X\" lower=\"'+str(mi)+'\" upper=\"'+str(ma)+'\"/>')\n",
    "    count=count+1\n",
    "\n",
    "    \n",
    "    #sample_taxon =  ['<samplingDates id=\"samplingDate%d\" spec=\"beast.evolution.tree.SamplingDate\" taxon=\"@'+name+'\" lower=\"'+str(mi)+'\" upper=\"'+str(ma)+'\"/>' for name,mi,ma in zip(names, merged.min_ma, merged.max_ma) %count count=count+1]"
   ]
  },
  {
   "cell_type": "markdown",
   "metadata": {},
   "source": [
    "To subsample tips involves some amount of manual assembly of XML. You can plug and chug this by copying the XML structure from the XML files associated with the paper. Below, I take the dataframe of all the taxa in our analysis and use it to constrain monophyloetic groups at the subfamily level. You can also create these in BEAUTi, but I really hate clicking things in a GUI, so i'm doing it here."
   ]
  },
  {
   "cell_type": "code",
   "execution_count": null,
   "metadata": {
    "collapsed": false
   },
   "outputs": [],
   "source": [
    "x_names = [name+'_X' for name in nl]\n",
    "\n",
    "namesdb['specimen'] = x_names\n",
    "total = namesdb.append([molMerge, morphMerge])\n"
   ]
  },
  {
   "cell_type": "code",
   "execution_count": null,
   "metadata": {
    "collapsed": false
   },
   "outputs": [],
   "source": [
    "total"
   ]
  },
  {
   "cell_type": "code",
   "execution_count": null,
   "metadata": {
    "collapsed": false
   },
   "outputs": [],
   "source": [
    "families = total.groupby('subfamily')\n",
    "for name, group in families:\n",
    "    print('<distribution id=\"'+name+'.prior\" spec=\"beast.math.distributions.MRCAPrior\" monophyletic=\"true\" tree=\"@Tree.t:samp_morphTest\">')\n",
    "    print('<taxonset id=\"'+name+'\" spec=\"TaxonSet\">')\n",
    "    for ind in set(group.specimen):\n",
    "        print('<taxon id=\"'+ind+'\" spec=\"Taxon\"/>')\n",
    "    print('</taxonset>'+'\\n'+'</distribution>')  \n",
    "            \n",
    "#    fname = name\n",
    "#   group.specimen.to_csv(fname, index=False)"
   ]
  },
  {
   "cell_type": "markdown",
   "metadata": {},
   "source": [
    "I'm interested in looking at the posterior distribution of ages for all the ant clades, so I want to add those to the operators so that information gets written to the log. The below formats the ops block."
   ]
  },
  {
   "cell_type": "code",
   "execution_count": null,
   "metadata": {
    "collapsed": false
   },
   "outputs": [],
   "source": [
    "for name, group in families:\n",
    "    print(' <log idref=\"'+name+'.prior\"/>')"
   ]
  },
  {
   "cell_type": "markdown",
   "metadata": {},
   "source": [
    "As I'm wrapping up this post, I am realizing I ought to do a schematic of the BEAST XML file to make it easier to understand the chunks of it if you're not an XML whiz."
   ]
  },
  {
   "cell_type": "code",
   "execution_count": null,
   "metadata": {
    "collapsed": false
   },
   "outputs": [],
   "source": [
    "for name, group in families:\n",
    "    for ind in group.specimen:\n",
    "        if ind in names or molDat.taxon_namespace:\n",
    "            print('yes')\n",
    "        else:\n",
    "            print('no')"
   ]
  },
  {
   "cell_type": "code",
   "execution_count": null,
   "metadata": {
    "collapsed": true
   },
   "outputs": [],
   "source": []
  }
 ],
 "metadata": {
  "kernelspec": {
   "display_name": "Python 3",
   "language": "python",
   "name": "python3"
  },
  "language_info": {
   "codemirror_mode": {
    "name": "ipython",
    "version": 3
   },
   "file_extension": ".py",
   "mimetype": "text/x-python",
   "name": "python",
   "nbconvert_exporter": "python",
   "pygments_lexer": "ipython3",
   "version": "3.5.1"
  }
 },
 "nbformat": 4,
 "nbformat_minor": 1
}
