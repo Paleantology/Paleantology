{
 "cells": [
  {
   "cell_type": "code",
   "execution_count": 91,
   "metadata": {
    "collapsed": true
   },
   "outputs": [],
   "source": [
    "import dendropy\n",
    "import pandas as pd\n",
    "from numpy import random\n",
    "\n",
    "pd.options.display.max_rows = 999\n",
    "pd.options.display.max_colwidth = 100"
   ]
  },
  {
   "cell_type": "code",
   "execution_count": 103,
   "metadata": {
    "collapsed": true
   },
   "outputs": [],
   "source": [
    "taxa = dendropy.TaxonNamespace()                                                                                      \n"
   ]
  },
  {
   "cell_type": "code",
   "execution_count": 104,
   "metadata": {
    "collapsed": false
   },
   "outputs": [
    {
     "data": {
      "text/plain": [
       "True"
      ]
     },
     "execution_count": 104,
     "metadata": {},
     "output_type": "execute_result"
    }
   ],
   "source": [
    "\n",
    "molDat = dendropy.DnaCharacterMatrix.get_from_path(\"../Data/Mol/FINAL_666Trimmed.nex\", schema=\"nexus\",preserve_underscores=True, taxon_namespace=taxa)  \n",
    "'Acanthoponera_minor' in taxa.labels()"
   ]
  },
  {
   "cell_type": "code",
   "execution_count": 105,
   "metadata": {
    "collapsed": false
   },
   "outputs": [],
   "source": [
    "morphDat = dendropy.StandardCharacterMatrix.get_from_path(\"../Data/Morph/KellerMatrix.nex\", preserve_underscores=True, schema=\"nexus\")\n"
   ]
  },
  {
   "cell_type": "code",
   "execution_count": 108,
   "metadata": {
    "collapsed": false
   },
   "outputs": [
    {
     "name": "stdout",
     "output_type": "stream",
     "text": [
      "Adetomyrma_sp.\n",
      "Amblyopone_armigera\n",
      "Amblyopone_australis\n",
      "Amblyopone_mercovichi\n",
      "Amblyopone_mystriops\n",
      "Amblyopone_pallipes\n",
      "Amblyopone_pluto\n",
      "Amblyopone_mutica\n",
      "Concoctio_concenta\n",
      "Myopopone_castanea\n",
      "Mystrium_voeltzkowi\n",
      "Onychomyrmex_doddi\n",
      "Prionopelta_aethiopica\n",
      "Prionopelta_antillana\n",
      "Ectatomma_tuberculatum\n",
      "Gnamptogenys_annulata\n",
      "Gnamptogenys_striatula\n",
      "Gnamptogenys_bufonis\n",
      "Gnamptogenys_minuta\n",
      "Rhytidoponera_confusa\n",
      "Typhlomyrmex_pusillus\n",
      "Typhlomyrmex_rogenhoferi\n",
      "Acanthoponera_minor\n",
      "Heteroponera_brouni\n",
      "Heteroponera_relicta\n",
      "Paraponera_clavata\n",
      "Platythyrea_punctata\n",
      "Platythyrea_turneri\n",
      "Anochetus_emarginatus\n",
      "Odontomachus_bauri\n",
      "Asphinctopone_silvestrii\n",
      "Belonopelta_deletrix\n",
      "Centromyrmex_brachycola\n",
      "Cryptopone_gilva\n",
      "Diacamma_ceylonense\n",
      "Dinoponera_lucida\n",
      "Dolioponera_fustigera\n",
      "Emeryopone_buttelreepeni\n",
      "Harpegnathos_saltator\n",
      "Hypoponera_sp.\n",
      "Leptogenys_sp._1\n",
      "Leptogenys_sp._2\n",
      "Leptogenys_podenzanai\n",
      "Loboponera_obeliscata\n",
      "Loboponera_vigilans\n",
      "Myopias_maligna\n",
      "Odontoponera_transversa\n",
      "Pachycondyla_apicalis\n",
      "Pachycondyla_berthoudi\n",
      "Pachycondyla_crassinoda\n",
      "Pachycondyla_croceicornis\n",
      "Pachycondyla_guianensis\n",
      "Pachycondyla_marleyi\n",
      "Pachycondyla_pachyderma\n",
      "Pachycondyla_porcata\n",
      "Pachycondyla_stigma\n",
      "Pachycondyla_tarsata\n",
      "Pachycondyla_villosa\n",
      "Phrynoponera_gabonensis\n",
      "Plectroctena_strigosa\n",
      "Ponera_alpha\n",
      "Ponera_pennsylvanica\n",
      "Psalidomyrmex_procerus\n",
      "Simopelta_oculata\n",
      "Streblognathus_peetersi\n",
      "Thaumatomyrmex_atrox\n",
      "Discothyrea_oculata\n",
      "Discothyrea_testacea\n",
      "Proceratium_croceum\n",
      "Proceratium_pergandei\n",
      "Probolomyrmex_guineensis\n",
      "Aneuretus_simoni\n",
      "Leptomyrmex_pallens\n",
      "Iridomyrmex_purpureus\n",
      "Dolichoderus_laminatus\n",
      "Tapinoma_erraticum\n",
      "Technomyrmex_albipes\n",
      "Formica_fusca\n",
      "Gesomyrmex_luzonensis\n",
      "Oecophylla_smaragdina\n",
      "Apomyrma_stygia\n",
      "Leptanilla_swani\n",
      "Myrmecia_nigriscapa\n",
      "Nothomyrmecia_macrops\n",
      "Tatuidris_tatusia\n",
      "Manica_rubida\n",
      "Myrmica_americana\n",
      "Pogonomyrmex_barbatus\n",
      "Metapone_madagascarica\n",
      "Pseudomyrmex_gracilis\n",
      "Tetraponera_aethiops\n",
      "Tetraponera_attenuata\n",
      "Acanthostichus_serratulus\n",
      "Cerapachys_nitidulus\n",
      "Cerapachys_doryloides\n",
      "Cylindromyrmex_brevitarsus\n",
      "Simopone_schoutedeni\n",
      "Leptanilliodes_biconstricta\n",
      "Dorylus_helvolus\n",
      "Aenictus_binghami\n",
      "Cheliomyrmex_morosus\n",
      "Labidus_coecus\n",
      "Eciton_hamatum\n",
      "Metapolybia_cingulata\n",
      "Scolia_nobilitata\n",
      "666\n"
     ]
    }
   ],
   "source": [
    "morph_strings = morphDat.taxon_namespace.labels()\n",
    "for taxon, strtax in zip(morphDat.taxon_namespace, morph_strings):\n",
    "    if strtax not in taxa.labels():\n",
    "        print(strtax)\n",
    "#        taxa.add_taxon(taxon)\n",
    "print(len(taxa))"
   ]
  },
  {
   "cell_type": "code",
   "execution_count": 97,
   "metadata": {
    "collapsed": false
   },
   "outputs": [
    {
     "data": {
      "text/plain": [
       "True"
      ]
     },
     "execution_count": 97,
     "metadata": {},
     "output_type": "execute_result"
    }
   ],
   "source": [
    "'Acanthoponera_minor' in taxa.labels()"
   ]
  },
  {
   "cell_type": "code",
   "execution_count": null,
   "metadata": {
    "collapsed": true
   },
   "outputs": [],
   "source": []
  }
 ],
 "metadata": {
  "kernelspec": {
   "display_name": "Python 3",
   "language": "python",
   "name": "python3"
  },
  "language_info": {
   "codemirror_mode": {
    "name": "ipython",
    "version": 3
   },
   "file_extension": ".py",
   "mimetype": "text/x-python",
   "name": "python",
   "nbconvert_exporter": "python",
   "pygments_lexer": "ipython3",
   "version": "3.5.1"
  }
 },
 "nbformat": 4,
 "nbformat_minor": 1
}
