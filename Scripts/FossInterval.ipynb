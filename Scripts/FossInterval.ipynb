{
 "cells": [
  {
   "cell_type": "code",
   "execution_count": 3,
   "metadata": {
    "collapsed": true,
    "deletable": true,
    "editable": true
   },
   "outputs": [],
   "source": [
    "import pandas as pd\n",
    "import dendropy\n",
    "import argparse"
   ]
  },
  {
   "cell_type": "code",
   "execution_count": 10,
   "metadata": {
    "collapsed": false,
    "deletable": true,
    "editable": true
   },
   "outputs": [],
   "source": [
    "def parse_dataframe(df):\n",
    "    '''Retrieve a taxon list from a dataframe'''\n",
    "    if df.endswith('.tsv'):\n",
    "        df = pd.read_csv(df, delimiter=\"\\t\")\n",
    "    elif df.endswith('.csv'):\n",
    "        df = pd.read_csv(df)\n",
    "    tax_list= df[['taxon','age']]\n",
    "    foss_tax = tax_list[tax_list.age != 0.0 ]\n",
    "    return(foss_tax)"
   ]
  },
  {
   "cell_type": "code",
   "execution_count": 13,
   "metadata": {
    "collapsed": false,
    "deletable": true,
    "editable": true
   },
   "outputs": [],
   "source": [
    "def map_fossils(tnrs, ns):\n",
    "    '''Decide which taxa in the morphology are fossils, and which are extant'''\n",
    "    dict_of_nameages = {}\n",
    "    if tnrs.endswith('.tsv'):\n",
    "        tnrs = pd.read_csv(tnrs, delimiter=\"\\t\")\n",
    "    elif tnrs.endswith('.csv'):\n",
    "        tnrs = pd.read_csv(tnrs)\n",
    "    for item in ns.taxon:\n",
    "        if len(tnrs.loc[tnrs['taxon'] == item]) != 0:\n",
    "            location = tnrs.loc[tnrs['taxon'] == item]\n",
    "            dict_of_nameages[str(item)] = [location.max_ma.item(), location.min_ma.item()]\n",
    "        else:\n",
    "            dict_of_nameages[item] = 0\n",
    "    fossil_df = pd.DataFrame.from_dict(dict_of_nameages, orient='index')\n",
    "    fossil_df = fossil_df.reset_index()\n",
    "    fossil_df.columns=['taxon','max', 'min']\n",
    "    return(fossil_df)"
   ]
  },
  {
   "cell_type": "code",
   "execution_count": 16,
   "metadata": {
    "collapsed": true,
    "deletable": true,
    "editable": true
   },
   "outputs": [],
   "source": [
    "df = \"../Data/combined/Data/taxa.tsv\"\n",
    "morphology_tnrs = \"../Data/Morph/FossilTNRS.csv\""
   ]
  },
  {
   "cell_type": "code",
   "execution_count": 17,
   "metadata": {
    "collapsed": false,
    "deletable": true,
    "editable": true
   },
   "outputs": [],
   "source": [
    "t_l = parse_dataframe(df)\n",
    "#ns = parse_morphology(morph_mat)\n",
    "#molm =  parse_molecular(mol_mat)\n",
    "foss =  map_fossils(morphology_tnrs, t_l)"
   ]
  },
  {
   "cell_type": "code",
   "execution_count": 21,
   "metadata": {
    "collapsed": false,
    "deletable": true,
    "editable": true
   },
   "outputs": [],
   "source": [
    "foss.to_csv(\"check\", sep=\"\\t\", index=False)"
   ]
  },
  {
   "cell_type": "code",
   "execution_count": null,
   "metadata": {
    "collapsed": true
   },
   "outputs": [],
   "source": []
  }
 ],
 "metadata": {
  "kernelspec": {
   "display_name": "Python 3",
   "language": "python",
   "name": "python3"
  },
  "language_info": {
   "codemirror_mode": {
    "name": "ipython",
    "version": 3
   },
   "file_extension": ".py",
   "mimetype": "text/x-python",
   "name": "python",
   "nbconvert_exporter": "python",
   "pygments_lexer": "ipython3",
   "version": "3.6.0"
  }
 },
 "nbformat": 4,
 "nbformat_minor": 2
}
